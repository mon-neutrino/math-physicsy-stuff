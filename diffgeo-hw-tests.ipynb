{
 "cells": [
  {
   "cell_type": "code",
   "execution_count": 23,
   "metadata": {},
   "outputs": [],
   "source": [
    "from math import *\n",
    "import matplotlib.pyplot as plt"
   ]
  },
  {
   "cell_type": "code",
   "execution_count": 16,
   "metadata": {},
   "outputs": [
    {
     "name": "stdout",
     "output_type": "stream",
     "text": [
      "12.0\n",
      "0.5773502691896256\n"
     ]
    }
   ],
   "source": [
    "theta = pi/6\n",
    "r0 = (1,0)\n",
    "circ_range = 2*pi/theta\n",
    "\n",
    "r1 = tan(theta)\n",
    "\n",
    "print(circ_range)\n",
    "print(r1)"
   ]
  },
  {
   "cell_type": "code",
   "execution_count": 9,
   "metadata": {},
   "outputs": [
    {
     "name": "stdout",
     "output_type": "stream",
     "text": [
      "(0.0, 0.5773502691896256)\n"
     ]
    }
   ],
   "source": [
    "x = r1*sin((1-1)*theta)\n",
    "y = r1*cos((1-1)*theta)\n",
    "r0n = (x,y)\n",
    "\n",
    "print(r0n)"
   ]
  },
  {
   "cell_type": "code",
   "execution_count": 10,
   "metadata": {},
   "outputs": [
    {
     "name": "stdout",
     "output_type": "stream",
     "text": [
      "(0.28867513459481275, 0.4999999999999999)\n"
     ]
    }
   ],
   "source": [
    "x = r1*sin((2-1)*theta)\n",
    "y = r1*cos((2-1)*theta)\n",
    "r0n = (x,y)\n",
    "\n",
    "print(r0n)"
   ]
  },
  {
   "cell_type": "code",
   "execution_count": 12,
   "metadata": {},
   "outputs": [
    {
     "name": "stdout",
     "output_type": "stream",
     "text": [
      "0.5773502691896256\n"
     ]
    }
   ],
   "source": [
    "print((x**2+y**2)**(1/2))"
   ]
  },
  {
   "cell_type": "code",
   "execution_count": 25,
   "metadata": {},
   "outputs": [],
   "source": [
    "theta = pi/6\n",
    "circ_range = 2*pi/theta\n",
    "r1 = tan(theta)"
   ]
  },
  {
   "cell_type": "code",
   "execution_count": 72,
   "metadata": {},
   "outputs": [
    {
     "name": "stdout",
     "output_type": "stream",
     "text": [
      "0.5196155385847385\n",
      "[1.5196155385847385, 0.8773504402666368]\n",
      "0.7512302019773569\n",
      "[3.1667332408259963, 2.4120576897017436]\n"
     ]
    },
    {
     "data": {
      "image/png": "[encoded data removed]",
      "text/plain": [
       "<Figure size 432x288 with 1 Axes>"
      ]
     },
     "metadata": {
      "needs_background": "light"
     },
     "output_type": "display_data"
    }
   ],
   "source": [
    "fig, plot = plt.subplots()\n",
    "# plot.set_xlim([-1,1])\n",
    "# plot.set_ylim([-1,1])\n",
    "r0 = [1,0]\n",
    "plt.scatter(r0[0],r0[1])\n",
    "\n",
    "for i in range(1,3):\n",
    "    x = r1*sin((i-1)*theta)\n",
    "    y = r1*cos((i-1)*theta)\n",
    "\n",
    "    a[0] = r0[0]+x\n",
    "    a[1] = r0[1]+y\n",
    "\n",
    "    # a = [r0[0]+r0n[0], r0[1]+r0n[1]]\n",
    "    m_a = ((r0[0]+a[0])**2+(r0[1]+a[1])**2)**(1/2)\n",
    "\n",
    "    gamma_ = (m_a-1)/(m_a)\n",
    "    gamma_a = [gamma_*a[0],gamma_*a[1]]\n",
    "\n",
    "    r0 = [a[0]+gamma_a[0],a[1]+gamma_a[1]]\n",
    "\n",
    "    print(gamma_)\n",
    "    plt.scatter(r0[0],r0[1])\n",
    "    print(r0)\n",
    "    \n",
    "\n",
    "plt.show()"
   ]
  },
  {
   "cell_type": "code",
   "execution_count": 28,
   "metadata": {},
   "outputs": [
    {
     "name": "stdout",
     "output_type": "stream",
     "text": [
      "(6, 8)\n"
     ]
    }
   ],
   "source": [
    "b = [3,4]\n",
    "b1 = (2*b[0],2*b[1])\n",
    "print(b1)"
   ]
  },
  {
   "cell_type": "code",
   "execution_count": 60,
   "metadata": {},
   "outputs": [
    {
     "name": "stdout",
     "output_type": "stream",
     "text": [
      "0.0 0.5773502691896256\n",
      "[1, 0]\n",
      "[1.0, 0.5773502691896256]\n",
      "-0.3700801350192413\n",
      "[-0.3700801350192413, -0.21366586557509196]\n",
      "[0.6299198649807587, 0.3636844036145337]\n"
     ]
    },
    {
     "data": {
      "image/png": "[encoded data removed]",
      "text/plain": [
       "<Figure size 432x288 with 1 Axes>"
      ]
     },
     "metadata": {
      "needs_background": "light"
     },
     "output_type": "display_data"
    }
   ],
   "source": [
    "r0 = [1,0]\n",
    "a = [1,0]\n",
    "i=1\n",
    "\n",
    "x = r1*sin((i-1)*theta)\n",
    "y = r1*cos((i-1)*theta)\n",
    "\n",
    "a[0] = r0[0]+x\n",
    "a[1] = r0[1]+y\n",
    "plt.scatter(r0[0],r0[1])\n",
    "\n",
    "# a = [r0[0]+r0n[0], r0[1]+r0n[1]]\n",
    "m_a = ((r0[0]+r0n[0])**2+(r0[1]+r0n[1])**2)**(1/2)\n",
    "\n",
    "gamma_ = (m_a-1)/(m_a)\n",
    "gamma_a = [gamma_*a[0],gamma_*a[1]]\n",
    "\n",
    "print(x,y)\n",
    "print(r0)\n",
    "#print(r0n)\n",
    "print(a)\n",
    "print(gamma_)\n",
    "print(gamma_a)\n",
    "\n",
    "r0 = [a[0]+gamma_a[0],a[1]+gamma_a[1]]\n",
    "\n",
    "plt.scatter(r0[0],r0[1])\n",
    "print(r0)"
   ]
  }
 ],
 "metadata": {
  "interpreter": {
   "hash": "082e9a3bcad0a290d0001e938aa60b99250c6c2ef33a923c00b70f9826caf4b7"
  },
  "kernelspec": {
   "display_name": "Python 3.8.2 64-bit",
   "language": "python",
   "name": "python3"
  },
  "language_info": {
   "codemirror_mode": {
    "name": "ipython",
    "version": 3
   },
   "file_extension": ".py",
   "mimetype": "text/x-python",
   "name": "python",
   "nbconvert_exporter": "python",
   "pygments_lexer": "ipython3",
   "version": "3.8.2"
  },
  "orig_nbformat": 4
 },
 "nbformat": 4,
 "nbformat_minor": 2
}
