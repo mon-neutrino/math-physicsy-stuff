{
 "cells": [
  {
   "cell_type": "markdown",
   "metadata": {},
   "source": [
    "# motion simulator\n",
    "\n",
    "**ver 1**\n",
    "\n",
    "- implement the input section\n",
    "- implement processing\n",
    "- output: print out array of points"
   ]
  },
  {
   "cell_type": "code",
   "execution_count": 6,
   "metadata": {},
   "outputs": [],
   "source": [
    "# numerical python library for fast numerical vector & matrix calculations\n",
    "import numpy as np\n",
    "import matplotlib.pyplot as plt\n",
    "%matplotlib inline"
   ]
  },
  {
   "cell_type": "code",
   "execution_count": 5,
   "metadata": {},
   "outputs": [],
   "source": [
    "from math import sin, cos"
   ]
  },
  {
   "cell_type": "code",
   "execution_count": 58,
   "metadata": {},
   "outputs": [],
   "source": [
    "from mpl_toolkits import mplot3d"
   ]
  },
  {
   "cell_type": "markdown",
   "metadata": {},
   "source": [
    "#### input"
   ]
  },
  {
   "cell_type": "code",
   "execution_count": 7,
   "metadata": {},
   "outputs": [],
   "source": [
    "#number of time steps\n",
    "N = 15\n",
    "\n",
    "# set time step\n",
    "dt = 0.1\n",
    "\n",
    "# define func for trajectory\n",
    "# input - time t\n",
    "# output - position vector\n",
    "def trajectory(t):\n",
    "    # linear motion w/ velocity (1, 1)\n",
    "    return np.array([t,t**2])\n",
    "\n",
    "#initalize variables\n",
    "t=0\n",
    "points = np.zeros((N+1,2))"
   ]
  },
  {
   "cell_type": "code",
   "execution_count": 28,
   "metadata": {},
   "outputs": [],
   "source": [
    "def trajectory_spiral(r,a):\n",
    "    # spiral motion\n",
    "    return np.array([r*cos(a),r*sin(a)])"
   ]
  },
  {
   "cell_type": "code",
   "execution_count": 52,
   "metadata": {},
   "outputs": [],
   "source": [
    "def trajectory_spiral3d(r,a,h):\n",
    "    # spiral motion\n",
    "    return np.array([r*cos(a),r*sin(a),h])"
   ]
  },
  {
   "cell_type": "code",
   "execution_count": 66,
   "metadata": {},
   "outputs": [],
   "source": [
    "#initialize spiral vars \n",
    "S = 300\n",
    "\n",
    "dr = 0.015\n",
    "da = 0.1 # radians\n",
    "dh = 0.1 #3d\n",
    "\n",
    "R = 0\n",
    "A = 0\n",
    "H = 0 #3d\n",
    "\n",
    "points_s = np.zeros((S+1,2))\n",
    "points_s3d = np.zeros((S+1,3))"
   ]
  },
  {
   "cell_type": "code",
   "execution_count": 67,
   "metadata": {},
   "outputs": [
    {
     "name": "stdout",
     "output_type": "stream",
     "text": [
      "[0. 0. 0.]\n"
     ]
    }
   ],
   "source": [
    "print(trajectory_spiral3d(R,A,H))"
   ]
  },
  {
   "cell_type": "markdown",
   "metadata": {},
   "source": [
    "#### processing"
   ]
  },
  {
   "cell_type": "code",
   "execution_count": 60,
   "metadata": {},
   "outputs": [],
   "source": [
    "# calculate N points on trajectory for times w time step dt apart\n",
    "\n",
    "for i in range(N+1):\n",
    "    # call function trajectory w current time t\n",
    "    # save new point in array points\n",
    "    # update time\n",
    "    points[i] = trajectory(t)\n",
    "    t += dt"
   ]
  },
  {
   "cell_type": "code",
   "execution_count": 49,
   "metadata": {},
   "outputs": [],
   "source": [
    "#spiral\n",
    "\n",
    "for i in range(S+1):\n",
    "    # call function trajectory w current time t\n",
    "    # save new point in array points\n",
    "    # update time\n",
    "    points_s[i] = trajectory_spiral(R,A)\n",
    "    R += dr\n",
    "    A += da\n"
   ]
  },
  {
   "cell_type": "code",
   "execution_count": 68,
   "metadata": {},
   "outputs": [],
   "source": [
    "#spiral 3d\n",
    "\n",
    "for i in range(S+1):\n",
    "    # call function trajectory w current time t\n",
    "    # save new point in array points\n",
    "    # update time\n",
    "    points_s3d[i] = trajectory_spiral3d(R,A,H)\n",
    "    R += dr\n",
    "    A += da\n",
    "    H += dh"
   ]
  },
  {
   "cell_type": "markdown",
   "metadata": {},
   "source": [
    "#### output\n",
    "ver1"
   ]
  },
  {
   "cell_type": "code",
   "execution_count": 69,
   "metadata": {},
   "outputs": [
    {
     "data": {
      "text/plain": [
       "array([[ 0.00000000e+00,  0.00000000e+00,  0.00000000e+00],\n",
       "       [ 1.49250625e-02,  1.49750125e-03,  1.00000000e-01],\n",
       "       [ 2.94019973e-02,  5.96007992e-03,  2.00000000e-01],\n",
       "       [ 4.29901420e-02,  1.32984093e-02,  3.00000000e-01],\n",
       "       [ 5.52636596e-02,  2.33651005e-02,  4.00000000e-01],\n",
       "       [ 6.58186921e-02,  3.59569154e-02,  5.00000000e-01],\n",
       "       [ 7.42802053e-02,  5.08178226e-02,  6.00000000e-01],\n",
       "       [ 8.03084297e-02,  6.76428572e-02,  7.00000000e-01],\n",
       "       [ 8.36048051e-02,  8.60827309e-02,  8.00000000e-01],\n",
       "       [ 8.39173457e-02,  1.05749133e-01,  9.00000000e-01],\n",
       "       [ 8.10453459e-02,  1.26220648e-01,  1.00000000e+00],\n",
       "       [ 7.48433600e-02,  1.47049214e-01,  1.10000000e+00],\n",
       "       [ 6.52243958e-02,  1.67767035e-01,  1.20000000e+00],\n",
       "       [ 5.21622716e-02,  1.87893846e-01,  1.30000000e+00],\n",
       "       [ 3.56931000e-02,  2.06944443e-01,  1.40000000e+00],\n",
       "       [ 1.59158704e-02,  2.24436372e-01,  1.50000000e+00],\n",
       "       [-7.00788535e-03,  2.39897665e-01,  1.60000000e+00],\n",
       "       [-3.28553460e-02,  2.52874527e-01,  1.70000000e+00],\n",
       "       [-6.13445656e-02,  2.62938860e-01,  1.80000000e+00],\n",
       "       [-9.21375266e-02,  2.69695525e-01,  1.90000000e+00],\n",
       "       [-1.24844051e-01,  2.72789228e-01,  2.00000000e+00],\n",
       "       [-1.59026523e-01,  2.71910950e-01,  2.10000000e+00],\n",
       "       [-1.94205369e-01,  2.66803813e-01,  2.20000000e+00],\n",
       "       [-2.29865227e-01,  2.57268298e-01,  2.30000000e+00],\n",
       "       [-2.65461738e-01,  2.43166745e-01,  2.40000000e+00],\n",
       "       [-3.00428856e-01,  2.24427054e-01,  2.50000000e+00],\n",
       "       [-3.34186614e-01,  2.01045535e-01,  2.60000000e+00],\n",
       "       [-3.66149218e-01,  1.73088851e-01,  2.70000000e+00],\n",
       "       [-3.95733383e-01,  1.40695023e-01,  2.80000000e+00],\n",
       "       [-4.22366802e-01,  1.04073458e-01,  2.90000000e+00],\n",
       "       [-4.45496623e-01,  6.35040036e-02,  3.00000000e+00],\n",
       "       [-4.64597845e-01,  1.93350080e-02,  3.10000000e+00],\n",
       "       [-4.79181492e-01, -2.80195888e-02,  3.20000000e+00],\n",
       "       [-4.88802486e-01, -7.80841186e-02,  3.30000000e+00],\n",
       "       [-4.93067078e-01, -1.30325962e-01,  3.40000000e+00],\n",
       "       [-4.91639761e-01, -1.84161195e-01,  3.50000000e+00],\n",
       "       [-4.84249545e-01, -2.38961039e-01,  3.60000000e+00],\n",
       "       [-4.70695518e-01, -2.94059058e-01,  3.70000000e+00],\n",
       "       [-4.50851596e-01, -3.48758998e-01,  3.80000000e+00],\n",
       "       [-4.24670398e-01, -4.02343203e-01,  3.90000000e+00],\n",
       "       [-3.92186173e-01, -4.54081497e-01,  4.00000000e+00],\n",
       "       [-3.53516727e-01, -5.03240423e-01,  4.10000000e+00],\n",
       "       [-3.08864317e-01, -5.49092737e-01,  4.20000000e+00],\n",
       "       [-2.58515466e-01, -5.90927029e-01,  4.30000000e+00],\n",
       "       [-2.02839694e-01, -6.28057369e-01,  4.40000000e+00],\n",
       "       [-1.42287165e-01, -6.59832829e-01,  4.50000000e+00],\n",
       "       [-7.73852436e-02, -6.85646793e-01,  4.60000000e+00],\n",
       "       [-8.73400774e-03, -7.04945897e-01,  4.70000000e+00],\n",
       "       [ 6.29992681e-02, -7.17238518e-01,  4.80000000e+00],\n",
       "       [ 1.37086592e-01, -7.22102670e-01,  4.90000000e+00],\n",
       "       [ 2.12746639e-01, -7.19193206e-01,  5.00000000e+00],\n",
       "       [ 2.89152973e-01, -7.08248232e-01,  5.10000000e+00],\n",
       "       [ 3.65443004e-01, -6.89094631e-01,  5.20000000e+00],\n",
       "       [ 4.40727597e-01, -6.61652617e-01,  5.30000000e+00],\n",
       "       [ 5.14101230e-01, -6.25939235e-01,  5.40000000e+00],\n",
       "       [ 5.84652564e-01, -5.82070769e-01,  5.50000000e+00],\n",
       "       [ 6.51475338e-01, -5.30263976e-01,  5.60000000e+00],\n",
       "       [ 7.13679431e-01, -4.70836139e-01,  5.70000000e+00],\n",
       "       [ 7.70401980e-01, -4.04203896e-01,  5.80000000e+00],\n",
       "       [ 8.20818411e-01, -3.30880848e-01,  5.90000000e+00],\n",
       "       [ 8.64153258e-01, -2.51473948e-01,  6.00000000e+00],\n",
       "       [ 8.99690621e-01, -1.66678691e-01,  6.10000000e+00],\n",
       "       [ 9.26784150e-01, -7.72731446e-02,  6.20000000e+00],\n",
       "       [ 9.44866411e-01,  1.58891360e-02,  6.30000000e+00],\n",
       "       [ 9.53457522e-01,  1.11887237e-01,  6.40000000e+00],\n",
       "       [ 9.52172935e-01,  2.09741988e-01,  6.50000000e+00],\n",
       "       [ 9.40730266e-01,  3.08425950e-01,  6.60000000e+00],\n",
       "       [ 9.18955064e-01,  4.06874170e-01,  6.70000000e+00],\n",
       "       [ 8.86785440e-01,  5.03995618e-01,  6.80000000e+00],\n",
       "       [ 8.44275479e-01,  5.98685156e-01,  6.90000000e+00],\n",
       "       [ 7.91597367e-01,  6.89835929e-01,  7.00000000e+00],\n",
       "       [ 7.29042200e-01,  7.76352028e-01,  7.10000000e+00],\n",
       "       [ 6.57019420e-01,  8.57161293e-01,  7.20000000e+00],\n",
       "       [ 5.76054882e-01,  9.31228100e-01,  7.30000000e+00],\n",
       "       [ 4.86787534e-01,  9.97565986e-01,  7.40000000e+00],\n",
       "       [ 3.89964733e-01,  1.05524997e+00,  7.50000000e+00],\n",
       "       [ 2.86436221e-01,  1.10342843e+00,  7.60000000e+00],\n",
       "       [ 1.77146811e-01,  1.14133431e+00,  7.70000000e+00],\n",
       "       [ 6.31278421e-02,  1.16829571e+00,  7.80000000e+00],\n",
       "       [-5.45125189e-02,  1.18374549e+00,  7.90000000e+00],\n",
       "       [-1.74600041e-01,  1.18722990e+00,  8.00000000e+00],\n",
       "       [-2.95906147e-01,  1.17841612e+00,  8.10000000e+00],\n",
       "       [-4.17160479e-01,  1.15709858e+00,  8.20000000e+00],\n",
       "       [-5.37064172e-01,  1.12320393e+00,  8.30000000e+00],\n",
       "       [-6.54303704e-01,  1.07679462e+00,  8.40000000e+00],\n",
       "       [-7.67565176e-01,  1.01807107e+00,  8.50000000e+00],\n",
       "       [-8.75548861e-01,  9.47372256e-01,  8.60000000e+00],\n",
       "       [-9.76983873e-01,  8.65174845e-01,  8.70000000e+00],\n",
       "       [-1.07064278e+00,  7.72090695e-01,  8.80000000e+00],\n",
       "       [-1.15535600e+00,  6.68862843e-01,  8.90000000e+00],\n",
       "       [-1.23002585e+00,  5.56359955e-01,  9.00000000e+00],\n",
       "       [-1.29363999e+00,  4.35569265e-01,  9.10000000e+00],\n",
       "       [-1.34528420e+00,  3.07588081e-01,  9.20000000e+00],\n",
       "       [-1.38415433e+00,  1.73613921e-01,  9.30000000e+00],\n",
       "       [-1.40956719e+00,  3.49333499e-02,  9.40000000e+00],\n",
       "       [-1.42097032e+00, -1.07090347e-01,  9.50000000e+00],\n",
       "       [-1.41795051e+00, -2.51030565e-01,  9.60000000e+00],\n",
       "       [-1.40024090e+00, -3.95411711e-01,  9.70000000e+00],\n",
       "       [-1.36772662e+00, -5.38724320e-01,  9.80000000e+00],\n",
       "       [-1.32044886e+00, -6.79440802e-01,  9.90000000e+00],\n",
       "       [-1.25860729e+00, -8.16031666e-01,  1.00000000e+01],\n",
       "       [-1.18256079e+00, -9.46982033e-01,  1.01000000e+01],\n",
       "       [-1.09282645e+00, -1.07080827e+00,  1.02000000e+01],\n",
       "       [-9.90076815e-01, -1.18607458e+00,  1.03000000e+01],\n",
       "       [-8.75135442e-01, -1.29140929e+00,  1.04000000e+01],\n",
       "       [-7.48970662e-01, -1.38552082e+00,  1.05000000e+01],\n",
       "       [-6.12687723e-01, -1.46721292e+00,  1.06000000e+01],\n",
       "       [-4.67519297e-01, -1.53539920e+00,  1.07000000e+01],\n",
       "       [-3.14814448e-01, -1.58911669e+00,  1.08000000e+01],\n",
       "       [-1.56026171e-01, -1.62753827e+00,  1.09000000e+01],\n",
       "       [ 7.30240168e-03, -1.64998384e+00,  1.10000000e+01],\n",
       "       [ 1.73552985e-01, -1.65593006e+00,  1.11000000e+01],\n",
       "       [ 3.41048171e-01, -1.64501858e+00,  1.12000000e+01],\n",
       "       [ 5.08068357e-01, -1.61706263e+00,  1.13000000e+01],\n",
       "       [ 6.72869381e-01, -1.57205178e+00,  1.14000000e+01],\n",
       "       [ 8.33700709e-01, -1.51015500e+00,  1.15000000e+01],\n",
       "       [ 9.88823956e-01, -1.43172176e+00,  1.16000000e+01],\n",
       "       [ 1.13653157e+00, -1.33728119e+00,  1.17000000e+01],\n",
       "       [ 1.27516549e+00, -1.22753940e+00,  1.18000000e+01],\n",
       "       [ 1.40313548e+00, -1.10337475e+00,  1.19000000e+01],\n",
       "       [ 1.51893713e+00, -9.65831252e-01,  1.20000000e+01],\n",
       "       [ 1.62116909e+00, -8.16110148e-01,  1.21000000e+01],\n",
       "       [ 1.70854957e+00, -6.55559586e-01,  1.22000000e+01],\n",
       "       [ 1.77993168e+00, -4.85662655e-01,  1.23000000e+01],\n",
       "       [ 1.83431768e+00, -3.08023766e-01,  1.24000000e+01],\n",
       "       [ 1.87087177e+00, -1.24353558e-01,  1.25000000e+01],\n",
       "       [ 1.88893137e+00,  6.35475592e-02,  1.26000000e+01],\n",
       "       [ 1.88801668e+00,  2.53807039e-01,  1.27000000e+01],\n",
       "       [ 1.86783853e+00,  4.44498864e-01,  1.28000000e+01],\n",
       "       [ 1.82830417e+00,  6.33663040e-01,  1.29000000e+01],\n",
       "       [ 1.76952122e+00,  8.19325722e-01,  1.30000000e+01],\n",
       "       [ 1.69179940e+00,  9.99519777e-01,  1.31000000e+01],\n",
       "       [ 1.59565024e+00,  1.17230556e+00,  1.32000000e+01],\n",
       "       [ 1.48178460e+00,  1.33579168e+00,  1.33000000e+01],\n",
       "       [ 1.35110810e+00,  1.48815554e+00,  1.34000000e+01],\n",
       "       [ 1.20471434e+00,  1.62766346e+00,  1.35000000e+01],\n",
       "       [ 1.04387614e+00,  1.75269010e+00,  1.36000000e+01],\n",
       "       [ 8.70034689e-01,  1.86173700e+00,  1.37000000e+01],\n",
       "       [ 6.84786797e-01,  1.95345004e+00,  1.38000000e+01],\n",
       "       [ 4.89870372e-01,  2.02663564e+00,  1.39000000e+01],\n",
       "       [ 2.87148158e-01,  2.08027545e+00,  1.40000000e+01],\n",
       "       [ 7.85899838e-02,  2.11353936e+00,  1.41000000e+01],\n",
       "       [-1.33746370e-01,  2.12579677e+00,  1.42000000e+01],\n",
       "       [-3.47735466e-01,  2.11662586e+00,  1.43000000e+01],\n",
       "       [-5.61205489e-01,  2.08582080e+00,  1.44000000e+01],\n",
       "       [-7.71960280e-01,  2.03339675e+00,  1.45000000e+01],\n",
       "       [-9.77801912e-01,  1.95959267e+00,  1.46000000e+01],\n",
       "       [-1.17655357e+00,  1.86487176e+00,  1.47000000e+01],\n",
       "       [-1.36608251e+00,  1.74991959e+00,  1.48000000e+01],\n",
       "       [-1.54432282e+00,  1.61563982e+00,  1.49000000e+01],\n",
       "       [-1.70929780e+00,  1.46314764e+00,  1.50000000e+01],\n",
       "       [-1.85914166e+00,  1.29376091e+00,  1.51000000e+01],\n",
       "       [-1.99212032e+00,  1.10898901e+00,  1.52000000e+01],\n",
       "       [-2.10665114e+00,  9.10519615e-01,  1.53000000e+01],\n",
       "       [-2.20132124e+00,  7.00203404e-01,  1.54000000e+01],\n",
       "       [-2.27490430e+00,  4.80036896e-01,  1.55000000e+01],\n",
       "       [-2.32637564e+00,  2.52143546e-01,  1.56000000e+01],\n",
       "       [-2.35492533e+00,  1.87532978e-02,  1.57000000e+01],\n",
       "       [-2.35996923e+00, -2.17819235e-01,  1.58000000e+01],\n",
       "       [-2.34115784e+00, -4.55197717e-01,  1.59000000e+01],\n",
       "       [-2.29838275e+00, -6.90967960e-01,  1.60000000e+01],\n",
       "       [-2.23178071e+00, -9.22702472e-01,  1.61000000e+01],\n",
       "       [-2.14173515e+00, -1.14798543e+00,  1.62000000e+01],\n",
       "       [-2.02887518e+00, -1.36443780e+00,  1.63000000e+01],\n",
       "       [-1.89407198e+00, -1.56974244e+00,  1.64000000e+01],\n",
       "       [-1.73843272e+00, -1.76166872e+00,  1.65000000e+01],\n",
       "       [-1.56329181e+00, -1.93809668e+00,  1.66000000e+01],\n",
       "       [-1.37019984e+00, -2.09704015e+00,  1.67000000e+01],\n",
       "       [-1.16091004e+00, -2.23666892e+00,  1.68000000e+01],\n",
       "       [-9.37362549e-01, -2.35532937e+00,  1.69000000e+01],\n",
       "       [-7.01666512e-01, -2.45156360e+00,  1.70000000e+01],\n",
       "       [-4.56080267e-01, -2.52412674e+00,  1.71000000e+01],\n",
       "       [-2.02989742e-01, -2.57200217e+00,  1.72000000e+01],\n",
       "       [ 5.51147072e-02, -2.59441465e+00,  1.73000000e+01],\n",
       "       [ 3.15662796e-01, -2.59084098e+00,  1.74000000e+01],\n",
       "       [ 5.76029903e-01, -2.56101826e+00,  1.75000000e+01],\n",
       "       [ 8.33563513e-01, -2.50494947e+00,  1.76000000e+01],\n",
       "       [ 1.08561022e+00, -2.42290640e+00,  1.77000000e+01],\n",
       "       [ 1.32954306e+00, -2.31542982e+00,  1.78000000e+01],\n",
       "       [ 1.56278882e+00, -2.18332684e+00,  1.79000000e+01],\n",
       "       [ 1.78285511e+00, -2.02766557e+00,  1.80000000e+01],\n",
       "       [ 1.98735692e+00, -1.84976687e+00,  1.81000000e+01],\n",
       "       [ 2.17404224e+00, -1.65119361e+00,  1.82000000e+01],\n",
       "       [ 2.34081674e+00, -1.43373708e+00,  1.83000000e+01],\n",
       "       [ 2.48576688e+00, -1.19940112e+00,  1.84000000e+01],\n",
       "       [ 2.60718158e+00, -9.50383716e-01,  1.85000000e+01],\n",
       "       [ 2.70357192e+00, -6.89056516e-01,  1.86000000e+01],\n",
       "       [ 2.77368875e+00, -4.17942267e-01,  1.87000000e+01],\n",
       "       [ 2.81653805e+00, -1.39690507e-01,  1.88000000e+01],\n",
       "       [ 2.83139379e+00,  1.42948320e-01,  1.89000000e+01],\n",
       "       [ 2.81780816e+00,  4.27150048e-01,  1.90000000e+01],\n",
       "       [ 2.77561905e+00,  7.10045006e-01,  1.91000000e+01],\n",
       "       [ 2.70495460e+00,  9.88746995e-01,  1.92000000e+01],\n",
       "       [ 2.60623491e+00,  1.26038272e+00,  1.93000000e+01],\n",
       "       [ 2.48017066e+00,  1.52212138e+00,  1.94000000e+01],\n",
       "       [ 2.32775879e+00,  1.77120412e+00,  1.95000000e+01],\n",
       "       [ 2.15027512e+00,  2.00497304e+00,  1.96000000e+01],\n",
       "       [ 1.94926413e+00,  2.22089944e+00,  1.97000000e+01],\n",
       "       [ 1.72652578e+00,  2.41661100e+00,  1.98000000e+01],\n",
       "       [ 1.48409960e+00,  2.58991764e+00,  1.99000000e+01],\n",
       "       [ 1.22424619e+00,  2.73883575e+00,  2.00000000e+01],\n",
       "       [ 9.49426237e-01,  2.86161053e+00,  2.01000000e+01],\n",
       "       [ 6.62277304e-01,  2.95673617e+00,  2.02000000e+01],\n",
       "       [ 3.65588531e-01,  3.02297371e+00,  2.03000000e+01],\n",
       "       [ 6.22735806e-02,  3.05936627e+00,  2.04000000e+01],\n",
       "       [-2.44657969e-01,  3.06525162e+00,  2.05000000e+01],\n",
       "       [-5.52130486e-01,  3.04027169e+00,  2.06000000e+01],\n",
       "       [-8.57033099e-01,  2.98437921e+00,  2.07000000e+01],\n",
       "       [-1.15625118e+00,  2.89784113e+00,  2.08000000e+01],\n",
       "       [-1.44669812e+00,  2.78123885e+00,  2.09000000e+01],\n",
       "       [-1.72534717e+00,  2.63546526e+00,  2.10000000e+01],\n",
       "       [-1.98926291e+00,  2.46171852e+00,  2.11000000e+01],\n",
       "       [-2.23563208e+00,  2.26149269e+00,  2.12000000e+01],\n",
       "       [-2.46179349e+00,  2.03656519e+00,  2.13000000e+01],\n",
       "       [-2.66526656e+00,  1.78898132e+00,  2.14000000e+01],\n",
       "       [-2.84377832e+00,  1.52103578e+00,  2.15000000e+01],\n",
       "       [-2.99528855e+00,  1.23525159e+00,  2.16000000e+01],\n",
       "       [-3.11801269e+00,  9.34356380e-01,  2.17000000e+01],\n",
       "       [-3.21044241e+00,  6.21256430e-01,  2.18000000e+01],\n",
       "       [-3.27136345e+00,  2.99008637e-01,  2.19000000e+01],\n",
       "       [-3.29987073e+00, -2.92093207e-02,  2.20000000e+01],\n",
       "       [-3.29538028e+00, -3.60130314e-01,  2.21000000e+01],\n",
       "       [-3.25763811e+00, -6.90430281e-01,  2.22000000e+01],\n",
       "       [-3.18672572e+00, -1.01676162e+00,  2.23000000e+01],\n",
       "       [-3.08306225e+00, -1.33578710e+00,  2.24000000e+01],\n",
       "       [-2.94740316e+00, -1.64421398e+00,  2.25000000e+01],\n",
       "       [-2.78083550e+00, -1.93882797e+00,  2.26000000e+01],\n",
       "       [-2.58476974e+00, -2.21652665e+00,  2.27000000e+01],\n",
       "       [-2.36092818e+00, -2.47435207e+00,  2.28000000e+01],\n",
       "       [-2.11133013e+00, -2.70952211e+00,  2.29000000e+01],\n",
       "       [-1.83827392e+00, -2.91946039e+00,  2.30000000e+01],\n",
       "       [-1.54431585e+00, -3.10182423e+00,  2.31000000e+01],\n",
       "       [-1.23224640e+00, -3.25453050e+00,  2.32000000e+01],\n",
       "       [-9.05063796e-01, -3.37577910e+00,  2.33000000e+01],\n",
       "       [-5.65945255e-01, -3.46407361e+00,  2.34000000e+01],\n",
       "       [-2.18216161e-01, -3.51823915e+00,  2.35000000e+01],\n",
       "       [ 1.34682534e-01, -3.53743701e+00,  2.36000000e+01],\n",
       "       [ 4.89228360e-01, -3.52117603e+00,  2.37000000e+01],\n",
       "       [ 8.41852485e-01, -3.46932045e+00,  2.38000000e+01],\n",
       "       [ 1.18897564e+00, -3.38209431e+00,  2.39000000e+01],\n",
       "       [ 1.52704443e+00, -3.26008210e+00,  2.40000000e+01],\n",
       "       [ 1.85256770e+00, -3.10422581e+00,  2.41000000e+01],\n",
       "       [ 2.16215256e+00, -2.91581829e+00,  2.42000000e+01],\n",
       "       [ 2.45253967e+00, -2.69649294e+00,  2.43000000e+01],\n",
       "       [ 2.72063744e+00, -2.44820994e+00,  2.44000000e+01],\n",
       "       [ 2.96355489e+00, -2.17323892e+00,  2.45000000e+01],\n",
       "       [ 3.17863260e+00, -1.87413842e+00,  2.46000000e+01],\n",
       "       [ 3.36347161e+00, -1.55373219e+00,  2.47000000e+01],\n",
       "       [ 3.51595991e+00, -1.21508267e+00,  2.48000000e+01],\n",
       "       [ 3.63429618e+00, -8.61461712e-01,  2.49000000e+01],\n",
       "       [ 3.71701054e+00, -4.96319063e-01,  2.50000000e+01],\n",
       "       [ 3.76298216e+00, -1.23248703e-01,  2.51000000e+01],\n",
       "       [ 3.77145335e+00,  2.54046514e-01,  2.52000000e+01],\n",
       "       [ 3.74204013e+00,  6.31791613e-01,  2.53000000e+01],\n",
       "       [ 3.67473908e+00,  1.00617727e+00,  2.54000000e+01],\n",
       "       [ 3.56993030e+00,  1.37339820e+00,  2.55000000e+01],\n",
       "       [ 3.42837658e+00,  1.72969188e+00,  2.56000000e+01],\n",
       "       [ 3.25121859e+00,  2.07137701e+00,  2.57000000e+01],\n",
       "       [ 3.03996621e+00,  2.39489154e+00,  2.58000000e+01],\n",
       "       [ 2.79648608e+00,  2.69682974e+00,  2.59000000e+01],\n",
       "       [ 2.52298536e+00,  2.97397796e+00,  2.60000000e+01],\n",
       "       [ 2.22199194e+00,  3.22334870e+00,  2.61000000e+01],\n",
       "       [ 1.89633123e+00,  3.44221264e+00,  2.62000000e+01],\n",
       "       [ 1.54909973e+00,  3.62812831e+00,  2.63000000e+01],\n",
       "       [ 1.18363571e+00,  3.77896897e+00,  2.64000000e+01],\n",
       "       [ 8.03487104e-01,  3.89294663e+00,  2.65000000e+01],\n",
       "       [ 4.12377142e-01,  3.96863265e+00,  2.66000000e+01],\n",
       "       [ 1.41678803e-02,  4.00497494e+00,  2.67000000e+01],\n",
       "       [-3.87177926e-01,  4.00131144e+00,  2.68000000e+01],\n",
       "       [-7.87636257e-01,  3.95737970e+00,  2.69000000e+01],\n",
       "       [-1.18316218e+00,  3.87332251e+00,  2.70000000e+01],\n",
       "       [-1.56973068e+00,  3.74968940e+00,  2.71000000e+01],\n",
       "       [-1.94337764e+00,  3.58743409e+00,  2.72000000e+01],\n",
       "       [-2.30024043e+00,  3.38790775e+00,  2.73000000e+01],\n",
       "       [-2.63659784e+00,  3.15284821e+00,  2.74000000e+01],\n",
       "       [-2.94890875e+00,  2.88436513e+00,  2.75000000e+01],\n",
       "       [-3.23384936e+00,  2.58492134e+00,  2.76000000e+01],\n",
       "       [-3.48834842e+00,  2.25731041e+00,  2.77000000e+01],\n",
       "       [-3.70962018e+00,  1.90463070e+00,  2.78000000e+01],\n",
       "       [-3.89519459e+00,  1.53025622e+00,  2.79000000e+01],\n",
       "       [-4.04294464e+00,  1.13780431e+00,  2.80000000e+01],\n",
       "       [-4.15111028e+00,  7.31100834e-01,  2.81000000e+01],\n",
       "       [-4.21831889e+00,  3.14142835e-01,  2.82000000e+01],\n",
       "       [-4.24360188e+00, -1.08940708e-01,  2.83000000e+01],\n",
       "       [-4.22640734e+00, -5.33929767e-01,  2.84000000e+01],\n",
       "       [-4.16660855e+00, -9.56555362e-01,  2.85000000e+01],\n",
       "       [-4.06450824e+00, -1.37254244e+00,  2.86000000e+01],\n",
       "       [-3.92083849e+00, -1.77765310e+00,  2.87000000e+01],\n",
       "       [-3.73675629e+00, -2.16772978e+00,  2.88000000e+01],\n",
       "       [-3.51383480e+00, -2.53873787e+00,  2.89000000e+01],\n",
       "       [-3.25405025e+00, -2.88680740e+00,  2.90000000e+01],\n",
       "       [-2.95976472e+00, -3.20827333e+00,  2.91000000e+01],\n",
       "       [-2.63370488e+00, -3.49971408e+00,  2.92000000e+01],\n",
       "       [-2.27893685e+00, -3.75798774e+00,  2.93000000e+01],\n",
       "       [-1.89883754e+00, -3.98026582e+00,  2.94000000e+01],\n",
       "       [-1.49706251e+00, -4.16406398e+00,  2.95000000e+01],\n",
       "       [-1.07751094e+00, -4.30726946e+00,  2.96000000e+01],\n",
       "       [-6.44287763e-01, -4.40816496e+00,  2.97000000e+01],\n",
       "       [-2.01663563e-01, -4.46544867e+00,  2.98000000e+01],\n",
       "       [ 2.45967547e-01, -4.47825021e+00,  2.99000000e+01],\n",
       "       [ 6.94131524e-01, -4.44614231e+00,  3.00000000e+01]])"
      ]
     },
     "execution_count": 69,
     "metadata": {},
     "output_type": "execute_result"
    }
   ],
   "source": [
    "points_s3d"
   ]
  },
  {
   "cell_type": "markdown",
   "metadata": {},
   "source": [
    "ver2"
   ]
  },
  {
   "cell_type": "code",
   "execution_count": 32,
   "metadata": {},
   "outputs": [
    {
     "data": {
      "image/png": "[encoded data removed]",
      "text/plain": [
       "<Figure size 432x288 with 1 Axes>"
      ]
     },
     "metadata": {
      "needs_background": "light"
     },
     "output_type": "display_data"
    }
   ],
   "source": [
    "#do this \n",
    "#x = []\n",
    "#y = []\n",
    "\n",
    "#for i in range(N):\n",
    "    #x.append(points[i,0])   #slay\n",
    "    #y.append(points[i,1])\n",
    "\n",
    "#or - ok this is better\n",
    "x_points = points[:,0]\n",
    "y_points = points[:,1]\n",
    "\n",
    "#plt.xlim(-1,11)\n",
    "#plt.ylim(-1,12)\n",
    "\n",
    "# plotting the points\n",
    "plt.plot(x_points, y_points, 'x')\n",
    " \n",
    "# naming the x axis\n",
    "plt.xlabel('x position')\n",
    "# naming the y axis\n",
    "plt.ylabel('y position')\n",
    " \n",
    "# giving a title to my graph\n",
    "plt.title('trajectory')\n",
    " \n",
    "# function to show the plot\n",
    "plt.show()"
   ]
  },
  {
   "cell_type": "code",
   "execution_count": 35,
   "metadata": {},
   "outputs": [
    {
     "data": {
      "image/png": "[encoded data removed]",
      "text/plain": [
       "<Figure size 432x288 with 1 Axes>"
      ]
     },
     "metadata": {
      "needs_background": "light"
     },
     "output_type": "display_data"
    }
   ],
   "source": [
    "#spiral\n",
    "\n",
    "x_pointss = points_s[:,0]\n",
    "y_pointss = points_s[:,1]\n",
    "\n",
    "plt.xlim(-2.5,2.5)\n",
    "plt.ylim(-2.5,2.5)\n",
    "\n",
    "#trying to make scale the same\n",
    "plt.gca().set_aspect('equal', adjustable='box')\n",
    "\n",
    "# plotting the points\n",
    "plt.plot(x_pointss, y_pointss)\n",
    " \n",
    "# naming the x axis\n",
    "plt.xlabel('x position')\n",
    "# naming the y axis\n",
    "plt.ylabel('y position')\n",
    " \n",
    "# giving a title to my graph\n",
    "plt.title('trajectory')\n",
    "\n",
    "# function to show the plot\n",
    "plt.show()"
   ]
  },
  {
   "cell_type": "markdown",
   "metadata": {},
   "source": [
    "more 3d modelling resources: \n",
    "https://jakevdp.github.io/PythonDataScienceHandbook/04.12-three-dimensional-plotting.html"
   ]
  },
  {
   "cell_type": "code",
   "execution_count": 61,
   "metadata": {},
   "outputs": [
    {
     "data": {
      "image/png": "[encoded data removed]",
      "text/plain": [
       "<Figure size 432x288 with 1 Axes>"
      ]
     },
     "metadata": {
      "needs_background": "light"
     },
     "output_type": "display_data"
    }
   ],
   "source": [
    "fig = plt.figure()\n",
    "ax = plt.axes(projection='3d')"
   ]
  },
  {
   "cell_type": "code",
   "execution_count": 70,
   "metadata": {},
   "outputs": [
    {
     "data": {
      "text/plain": [
       "<matplotlib.axes._subplots.Axes3DSubplot at 0x7fd587469df0>"
      ]
     },
     "execution_count": 70,
     "metadata": {},
     "output_type": "execute_result"
    },
    {
     "data": {
      "image/png": "[encoded data removed]",
      "text/plain": [
       "<Figure size 432x288 with 1 Axes>"
      ]
     },
     "metadata": {
      "needs_background": "light"
     },
     "output_type": "display_data"
    }
   ],
   "source": [
    "#spiral3d\n",
    "ax = plt.axes(projection='3d')\n",
    "\n",
    "x_pointss3d = points_s3d[:,0]\n",
    "y_pointss3d = points_s3d[:,1]\n",
    "z_pointss3d = points_s3d[:,2]\n",
    "\n",
    "ax.scatter3D(x_pointss3d, y_pointss3d, z_pointss3d, 'gray') \n",
    "#plt.xlim(-2.5,2.5)\n",
    "#plt.ylim(-2.5,2.5)\n",
    "\n",
    "ax"
   ]
  },
  {
   "cell_type": "code",
   "execution_count": 33,
   "metadata": {},
   "outputs": [
    {
     "data": {
      "text/plain": [
       "array([0. , 0.1, 0.2, 0.3, 0.4, 0.5, 0.6, 0.7, 0.8, 0.9, 1. , 1.1, 1.2,\n",
       "       1.3, 1.4, 1.5, 1.6, 1.7, 1.8, 1.9, 2. , 2.1, 2.2, 2.3, 2.4, 2.5,\n",
       "       2.6, 2.7, 2.8, 2.9, 3. , 3.1, 3.2, 3.3, 3.4, 3.5, 3.6, 3.7, 3.8,\n",
       "       3.9, 4. , 4.1, 4.2, 4.3, 4.4, 4.5, 4.6, 4.7, 4.8, 4.9, 5. , 5.1,\n",
       "       5.2, 5.3, 5.4, 5.5, 5.6, 5.7, 5.8, 5.9, 6. , 6.1, 6.2, 6.3, 6.4,\n",
       "       6.5, 6.6, 6.7, 6.8, 6.9, 7. , 7.1, 7.2, 7.3, 7.4, 7.5, 7.6, 7.7,\n",
       "       7.8, 7.9, 8. , 8.1, 8.2, 8.3, 8.4, 8.5, 8.6, 8.7, 8.8, 8.9, 9. ,\n",
       "       9.1, 9.2, 9.3, 9.4, 9.5, 9.6, 9.7, 9.8, 9.9, 0. ])"
      ]
     },
     "execution_count": 33,
     "metadata": {},
     "output_type": "execute_result"
    }
   ],
   "source": [
    "x_points"
   ]
  },
  {
   "cell_type": "code",
   "execution_count": 34,
   "metadata": {},
   "outputs": [
    {
     "data": {
      "text/plain": [
       "array([ 1. ,  1.1,  1.2,  1.3,  1.4,  1.5,  1.6,  1.7,  1.8,  1.9,  2. ,\n",
       "        2.1,  2.2,  2.3,  2.4,  2.5,  2.6,  2.7,  2.8,  2.9,  3. ,  3.1,\n",
       "        3.2,  3.3,  3.4,  3.5,  3.6,  3.7,  3.8,  3.9,  4. ,  4.1,  4.2,\n",
       "        4.3,  4.4,  4.5,  4.6,  4.7,  4.8,  4.9,  5. ,  5.1,  5.2,  5.3,\n",
       "        5.4,  5.5,  5.6,  5.7,  5.8,  5.9,  6. ,  6.1,  6.2,  6.3,  6.4,\n",
       "        6.5,  6.6,  6.7,  6.8,  6.9,  7. ,  7.1,  7.2,  7.3,  7.4,  7.5,\n",
       "        7.6,  7.7,  7.8,  7.9,  8. ,  8.1,  8.2,  8.3,  8.4,  8.5,  8.6,\n",
       "        8.7,  8.8,  8.9,  9. ,  9.1,  9.2,  9.3,  9.4,  9.5,  9.6,  9.7,\n",
       "        9.8,  9.9, 10. , 10.1, 10.2, 10.3, 10.4, 10.5, 10.6, 10.7, 10.8,\n",
       "       10.9,  0. ])"
      ]
     },
     "execution_count": 34,
     "metadata": {},
     "output_type": "execute_result"
    }
   ],
   "source": [
    "y_points"
   ]
  },
  {
   "cell_type": "markdown",
   "metadata": {},
   "source": [
    "test\n",
    "\n",
    "below, numpy.ndarray, d stands for double"
   ]
  },
  {
   "cell_type": "code",
   "execution_count": 21,
   "metadata": {},
   "outputs": [
    {
     "name": "stdout",
     "output_type": "stream",
     "text": [
      "[1 2 3 4 5]\n",
      "<class 'numpy.ndarray'>\n"
     ]
    }
   ],
   "source": [
    "arr = np.array([1,2,3,4,5])\n",
    "\n",
    "print(arr)\n",
    "print(type(arr))"
   ]
  },
  {
   "cell_type": "code",
   "execution_count": 3,
   "metadata": {},
   "outputs": [
    {
     "data": {
      "text/plain": [
       "0.8414709848078965"
      ]
     },
     "execution_count": 3,
     "metadata": {},
     "output_type": "execute_result"
    }
   ],
   "source": [
    "math.sin(1)"
   ]
  },
  {
   "cell_type": "code",
   "execution_count": null,
   "metadata": {},
   "outputs": [],
   "source": [
    "math.sin(1)"
   ]
  }
 ],
 "metadata": {
  "interpreter": {
   "hash": "082e9a3bcad0a290d0001e938aa60b99250c6c2ef33a923c00b70f9826caf4b7"
  },
  "kernelspec": {
   "display_name": "Python 3.8.2 64-bit",
   "language": "python",
   "name": "python3"
  },
  "language_info": {
   "codemirror_mode": {
    "name": "ipython",
    "version": 3
   },
   "file_extension": ".py",
   "mimetype": "text/x-python",
   "name": "python",
   "nbconvert_exporter": "python",
   "pygments_lexer": "ipython3",
   "version": "3.8.2"
  },
  "orig_nbformat": 4
 },
 "nbformat": 4,
 "nbformat_minor": 2
}
