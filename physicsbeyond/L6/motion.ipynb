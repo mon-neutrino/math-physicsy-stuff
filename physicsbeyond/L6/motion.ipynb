{
 "cells": [
  {
   "cell_type": "markdown",
   "metadata": {},
   "source": [
    "# motion simulator\n",
    "\n",
    "**ver 1**\n",
    "\n",
    "- implement the input section\n",
    "- implement processing\n",
    "- output: print out array of points"
   ]
  },
  {
   "cell_type": "code",
   "execution_count": 1,
   "metadata": {},
   "outputs": [],
   "source": [
    "# numerical python library for fast numerical vector & matrix calculations\n",
    "import numpy as np"
   ]
  },
  {
   "cell_type": "markdown",
   "metadata": {},
   "source": [
    "#### input"
   ]
  },
  {
   "cell_type": "code",
   "execution_count": 6,
   "metadata": {},
   "outputs": [],
   "source": [
    "# number of time steps\n",
    "N = 100\n",
    "\n",
    "# set time step\n",
    "dt = 0.1\n",
    "\n",
    "# define func for trajectory\n",
    "# input - time t\n",
    "# output - position vector\n",
    "def trajectory(t):\n",
    "    # linear motion w/ velocity (1, 1)\n",
    "    return np.array([t,t])\n",
    "\n",
    "#initalize variables\n",
    "t=0\n",
    "points = np.zeros((N+1,2))"
   ]
  },
  {
   "cell_type": "code",
   "execution_count": 7,
   "metadata": {},
   "outputs": [
    {
     "data": {
      "text/plain": [
       "array([0., 0.])"
      ]
     },
     "execution_count": 7,
     "metadata": {},
     "output_type": "execute_result"
    }
   ],
   "source": [
    "points[0]"
   ]
  },
  {
   "cell_type": "markdown",
   "metadata": {},
   "source": [
    "#### processing"
   ]
  },
  {
   "cell_type": "code",
   "execution_count": 8,
   "metadata": {},
   "outputs": [],
   "source": [
    "# calculate N points on trajectory for times w time step dt apart\n",
    "\n",
    "for i in range(N):\n",
    "    # call function trajectory w current time t\n",
    "    # save new point in array points\n",
    "    # update time\n",
    "    points[i] = trajectory(t)\n",
    "    t += dt"
   ]
  },
  {
   "cell_type": "code",
   "execution_count": 9,
   "metadata": {},
   "outputs": [
    {
     "data": {
      "text/plain": [
       "array([[0. , 0. ],\n",
       "       [0.1, 0.1],\n",
       "       [0.2, 0.2],\n",
       "       [0.3, 0.3],\n",
       "       [0.4, 0.4],\n",
       "       [0.5, 0.5],\n",
       "       [0.6, 0.6],\n",
       "       [0.7, 0.7],\n",
       "       [0.8, 0.8],\n",
       "       [0.9, 0.9],\n",
       "       [1. , 1. ],\n",
       "       [1.1, 1.1],\n",
       "       [1.2, 1.2],\n",
       "       [1.3, 1.3],\n",
       "       [1.4, 1.4],\n",
       "       [1.5, 1.5],\n",
       "       [1.6, 1.6],\n",
       "       [1.7, 1.7],\n",
       "       [1.8, 1.8],\n",
       "       [1.9, 1.9],\n",
       "       [2. , 2. ],\n",
       "       [2.1, 2.1],\n",
       "       [2.2, 2.2],\n",
       "       [2.3, 2.3],\n",
       "       [2.4, 2.4],\n",
       "       [2.5, 2.5],\n",
       "       [2.6, 2.6],\n",
       "       [2.7, 2.7],\n",
       "       [2.8, 2.8],\n",
       "       [2.9, 2.9],\n",
       "       [3. , 3. ],\n",
       "       [3.1, 3.1],\n",
       "       [3.2, 3.2],\n",
       "       [3.3, 3.3],\n",
       "       [3.4, 3.4],\n",
       "       [3.5, 3.5],\n",
       "       [3.6, 3.6],\n",
       "       [3.7, 3.7],\n",
       "       [3.8, 3.8],\n",
       "       [3.9, 3.9],\n",
       "       [4. , 4. ],\n",
       "       [4.1, 4.1],\n",
       "       [4.2, 4.2],\n",
       "       [4.3, 4.3],\n",
       "       [4.4, 4.4],\n",
       "       [4.5, 4.5],\n",
       "       [4.6, 4.6],\n",
       "       [4.7, 4.7],\n",
       "       [4.8, 4.8],\n",
       "       [4.9, 4.9],\n",
       "       [5. , 5. ],\n",
       "       [5.1, 5.1],\n",
       "       [5.2, 5.2],\n",
       "       [5.3, 5.3],\n",
       "       [5.4, 5.4],\n",
       "       [5.5, 5.5],\n",
       "       [5.6, 5.6],\n",
       "       [5.7, 5.7],\n",
       "       [5.8, 5.8],\n",
       "       [5.9, 5.9],\n",
       "       [6. , 6. ],\n",
       "       [6.1, 6.1],\n",
       "       [6.2, 6.2],\n",
       "       [6.3, 6.3],\n",
       "       [6.4, 6.4],\n",
       "       [6.5, 6.5],\n",
       "       [6.6, 6.6],\n",
       "       [6.7, 6.7],\n",
       "       [6.8, 6.8],\n",
       "       [6.9, 6.9],\n",
       "       [7. , 7. ],\n",
       "       [7.1, 7.1],\n",
       "       [7.2, 7.2],\n",
       "       [7.3, 7.3],\n",
       "       [7.4, 7.4],\n",
       "       [7.5, 7.5],\n",
       "       [7.6, 7.6],\n",
       "       [7.7, 7.7],\n",
       "       [7.8, 7.8],\n",
       "       [7.9, 7.9],\n",
       "       [8. , 8. ],\n",
       "       [8.1, 8.1],\n",
       "       [8.2, 8.2],\n",
       "       [8.3, 8.3],\n",
       "       [8.4, 8.4],\n",
       "       [8.5, 8.5],\n",
       "       [8.6, 8.6],\n",
       "       [8.7, 8.7],\n",
       "       [8.8, 8.8],\n",
       "       [8.9, 8.9],\n",
       "       [9. , 9. ],\n",
       "       [9.1, 9.1],\n",
       "       [9.2, 9.2],\n",
       "       [9.3, 9.3],\n",
       "       [9.4, 9.4],\n",
       "       [9.5, 9.5],\n",
       "       [9.6, 9.6],\n",
       "       [9.7, 9.7],\n",
       "       [9.8, 9.8],\n",
       "       [9.9, 9.9],\n",
       "       [0. , 0. ]])"
      ]
     },
     "execution_count": 9,
     "metadata": {},
     "output_type": "execute_result"
    }
   ],
   "source": [
    "points"
   ]
  },
  {
   "cell_type": "markdown",
   "metadata": {},
   "source": [
    "#### output"
   ]
  },
  {
   "cell_type": "code",
   "execution_count": null,
   "metadata": {},
   "outputs": [],
   "source": []
  },
  {
   "cell_type": "markdown",
   "metadata": {},
   "source": [
    "test\n",
    "\n",
    "below, numpy.ndarray, d stands for double"
   ]
  },
  {
   "cell_type": "code",
   "execution_count": 2,
   "metadata": {},
   "outputs": [
    {
     "name": "stdout",
     "output_type": "stream",
     "text": [
      "[1 2 3 4 5]\n",
      "<class 'numpy.ndarray'>\n"
     ]
    }
   ],
   "source": [
    "arr = np.array([1,2,3,4,5])\n",
    "\n",
    "print(arr)\n",
    "print(type(arr))"
   ]
  }
 ],
 "metadata": {
  "interpreter": {
   "hash": "082e9a3bcad0a290d0001e938aa60b99250c6c2ef33a923c00b70f9826caf4b7"
  },
  "kernelspec": {
   "display_name": "Python 3.8.2 64-bit",
   "language": "python",
   "name": "python3"
  },
  "language_info": {
   "codemirror_mode": {
    "name": "ipython",
    "version": 3
   },
   "file_extension": ".py",
   "mimetype": "text/x-python",
   "name": "python",
   "nbconvert_exporter": "python",
   "pygments_lexer": "ipython3",
   "version": "3.8.2"
  },
  "orig_nbformat": 4
 },
 "nbformat": 4,
 "nbformat_minor": 2
}
